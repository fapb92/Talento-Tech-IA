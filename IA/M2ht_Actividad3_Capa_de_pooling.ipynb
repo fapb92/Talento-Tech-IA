{
  "nbformat": 4,
  "nbformat_minor": 0,
  "metadata": {
    "colab": {
      "provenance": []
    },
    "kernelspec": {
      "name": "python3",
      "display_name": "Python 3"
    },
    "language_info": {
      "name": "python"
    }
  },
  "cells": [
    {
      "cell_type": "code",
      "execution_count": null,
      "metadata": {
        "id": "ZTAU-VP985QR"
      },
      "outputs": [],
      "source": [
        "import numpy as np"
      ]
    },
    {
      "cell_type": "markdown",
      "source": [
        "**Max pooling**"
      ],
      "metadata": {
        "id": "3AIz2RqJHjVe"
      }
    },
    {
      "cell_type": "code",
      "source": [
        "a = np.array([[29,15,28,184],\n",
        "               [0,100,70,38],\n",
        "               [12,12,7,2],\n",
        "              [12,12,45,6]])\n",
        "\n",
        "a1 = a[:2,:2].max()\n",
        "a2 = a[:2,2:].max()\n",
        "a3 = a[2:,:2].max()\n",
        "a4 = a[2:,2:].max()\n",
        "\n",
        "print('Original',a,sep='\\n')\n",
        "print('\\nCon max Pooling', np.array([[a1,a2],\n",
        "                [a3,a4]]),sep='\\n')\n"
      ],
      "metadata": {
        "colab": {
          "base_uri": "https://localhost:8080/"
        },
        "id": "a6lNDvlS9IPk",
        "outputId": "bcd75708-3a89-43dc-c5fa-c6498468c359"
      },
      "execution_count": null,
      "outputs": [
        {
          "output_type": "stream",
          "name": "stdout",
          "text": [
            "Original\n",
            "[[ 29  15  28 184]\n",
            " [  0 100  70  38]\n",
            " [ 12  12   7   2]\n",
            " [ 12  12  45   6]]\n",
            "\n",
            "Con max Pooling\n",
            "[[100 184]\n",
            " [ 12  45]]\n"
          ]
        }
      ]
    },
    {
      "cell_type": "markdown",
      "source": [
        "**Average Pooling**"
      ],
      "metadata": {
        "id": "0Rz8rJ-mHqYo"
      }
    },
    {
      "cell_type": "code",
      "source": [
        "a = np.array([[29,15,28,184],\n",
        "               [0,100,70,38],\n",
        "               [12,12,7,2],\n",
        "              [12,12,45,6]])\n",
        "\n",
        "a1 = a[:2,:2].mean()\n",
        "a2 = a[:2,2:].mean()\n",
        "a3 = a[2:,:2].mean()\n",
        "a4 = a[2:,2:].mean()\n",
        "\n",
        "print('Original',a,sep='\\n')\n",
        "print('\\nCon average Pooling',np.array([[a1,a2],\n",
        "                [a3,a4]]),sep='\\n')"
      ],
      "metadata": {
        "colab": {
          "base_uri": "https://localhost:8080/"
        },
        "id": "zq1Ao_bUHt-L",
        "outputId": "94023d79-9104-4d6d-b9d1-c5797ef47a7e"
      },
      "execution_count": null,
      "outputs": [
        {
          "output_type": "stream",
          "name": "stdout",
          "text": [
            "Original\n",
            "[[ 29  15  28 184]\n",
            " [  0 100  70  38]\n",
            " [ 12  12   7   2]\n",
            " [ 12  12  45   6]]\n",
            "\n",
            "Con average Pooling\n",
            "[[36. 80.]\n",
            " [12. 15.]]\n"
          ]
        }
      ]
    }
  ]
}