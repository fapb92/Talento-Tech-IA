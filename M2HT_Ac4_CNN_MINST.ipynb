{
  "nbformat": 4,
  "nbformat_minor": 0,
  "metadata": {
    "colab": {
      "provenance": []
    },
    "kernelspec": {
      "name": "python3",
      "display_name": "Python 3"
    },
    "language_info": {
      "name": "python"
    }
  },
  "cells": [
    {
      "cell_type": "code",
      "execution_count": 1,
      "metadata": {
        "id": "8qiJqjsouiaG"
      },
      "outputs": [],
      "source": [
        "import keras\n",
        "import numpy as np\n",
        "import pandas as pd\n",
        "import matplotlib.pyplot as plt"
      ]
    },
    {
      "cell_type": "code",
      "source": [
        "# Se carga el conjunto de datos manuscritos\n",
        "mnist = keras.datasets.mnist\n",
        "\n",
        "# Se carga la division de entrenamiento y prueba de conjunto de datos MINST\n",
        "(training_images, training_labels), (test_images, test_labels) = mnist.load_data()\n"
      ],
      "metadata": {
        "id": "zrVKhq21vJfV"
      },
      "execution_count": 8,
      "outputs": []
    },
    {
      "cell_type": "code",
      "source": [
        "# Se prueban los valores de pixeles y se prueban las imagenes\n",
        "training_images = training_images / 255.0\n",
        "test_images = test_images /255.0"
      ],
      "metadata": {
        "id": "AzouDlEGxQ9-"
      },
      "execution_count": 9,
      "outputs": []
    },
    {
      "cell_type": "code",
      "source": [
        "model = keras.models.Sequential([\n",
        "    keras.layers.Conv2D(32, (3,3), activation='relu', input_shape=(28, 28, 1)),\n",
        "    keras.layers.MaxPooling2D(2,2),\n",
        "    keras.layers.Flatten(),\n",
        "    keras.layers.Dense(128, activation='relu'),\n",
        "    keras.layers.Dense(10, activation='softmax'),\n",
        "])\n",
        "\n",
        "model.summary()"
      ],
      "metadata": {
        "colab": {
          "base_uri": "https://localhost:8080/"
        },
        "id": "KGgaNUhqxqU7",
        "outputId": "7f760d20-e403-4664-fd22-a3517b16c5af"
      },
      "execution_count": 13,
      "outputs": [
        {
          "output_type": "stream",
          "name": "stdout",
          "text": [
            "Model: \"sequential\"\n",
            "_________________________________________________________________\n",
            " Layer (type)                Output Shape              Param #   \n",
            "=================================================================\n",
            " conv2d_1 (Conv2D)           (None, 26, 26, 32)        320       \n",
            "                                                                 \n",
            " max_pooling2d_1 (MaxPoolin  (None, 13, 13, 32)        0         \n",
            " g2D)                                                            \n",
            "                                                                 \n",
            " flatten (Flatten)           (None, 5408)              0         \n",
            "                                                                 \n",
            " dense (Dense)               (None, 128)               692352    \n",
            "                                                                 \n",
            " dense_1 (Dense)             (None, 10)                1290      \n",
            "                                                                 \n",
            "=================================================================\n",
            "Total params: 693962 (2.65 MB)\n",
            "Trainable params: 693962 (2.65 MB)\n",
            "Non-trainable params: 0 (0.00 Byte)\n",
            "_________________________________________________________________\n"
          ]
        }
      ]
    },
    {
      "cell_type": "code",
      "source": [
        "#Compilamos el modelo\n",
        "model.compile(\n",
        "    optimizer='adam',\n",
        "    loss='sparse_categorical_crossentropy',\n",
        "    metrics=['accuracy']\n",
        ")"
      ],
      "metadata": {
        "id": "wwSy6s7lykxF"
      },
      "execution_count": 14,
      "outputs": []
    },
    {
      "cell_type": "code",
      "source": [
        "history = model.fit(training_images, training_labels, epochs=10)\n",
        "\n",
        "# Se grafica el historial de entrenamiento\n",
        "pd.DataFrame(history.history).plot(grid=True)"
      ],
      "metadata": {
        "colab": {
          "base_uri": "https://localhost:8080/",
          "height": 825
        },
        "id": "ItbZMKLLy3VE",
        "outputId": "3162e265-56fc-43fb-f949-20838b348973"
      },
      "execution_count": 16,
      "outputs": [
        {
          "output_type": "stream",
          "name": "stdout",
          "text": [
            "Epoch 1/10\n",
            "1875/1875 [==============================] - 42s 22ms/step - loss: 0.0411 - accuracy: 0.9876\n",
            "Epoch 2/10\n",
            "1875/1875 [==============================] - 38s 20ms/step - loss: 0.0265 - accuracy: 0.9915\n",
            "Epoch 3/10\n",
            "1875/1875 [==============================] - 38s 20ms/step - loss: 0.0172 - accuracy: 0.9946\n",
            "Epoch 4/10\n",
            "1875/1875 [==============================] - 38s 20ms/step - loss: 0.0128 - accuracy: 0.9960\n",
            "Epoch 5/10\n",
            "1875/1875 [==============================] - 40s 21ms/step - loss: 0.0093 - accuracy: 0.9970\n",
            "Epoch 6/10\n",
            "1875/1875 [==============================] - 38s 20ms/step - loss: 0.0071 - accuracy: 0.9976\n",
            "Epoch 7/10\n",
            "1875/1875 [==============================] - 37s 20ms/step - loss: 0.0052 - accuracy: 0.9982\n",
            "Epoch 8/10\n",
            "1875/1875 [==============================] - 37s 20ms/step - loss: 0.0048 - accuracy: 0.9985\n",
            "Epoch 9/10\n",
            "1875/1875 [==============================] - 38s 20ms/step - loss: 0.0042 - accuracy: 0.9987\n",
            "Epoch 10/10\n",
            "1875/1875 [==============================] - 38s 20ms/step - loss: 0.0042 - accuracy: 0.9985\n"
          ]
        },
        {
          "output_type": "execute_result",
          "data": {
            "text/plain": [
              "<Axes: >"
            ]
          },
          "metadata": {},
          "execution_count": 16
        },
        {
          "output_type": "display_data",
          "data": {
            "text/plain": [
              "<Figure size 640x480 with 1 Axes>"
            ],
            "image/png": "[encoded data removed]"
          },
          "metadata": {}
        }
      ]
    },
    {
      "cell_type": "code",
      "source": [
        "# Evaluamos el modelo en el conjunto de entrenamiento\n",
        "loss, accuracy = model.evaluate(training_images, training_labels)\n",
        "print(\"Pérdida en el conjunto de entrenamiento:\", loss)\n",
        "print(\"Precisión en el conjunto de entrenamiento:\", accuracy)\n",
        "\n",
        "# Evaluamos el modelo en el conjunto de entrenamiento\n",
        "loss, accuracy = model.evaluate(test_images, test_labels)\n",
        "print(\"Pérdida en el conjunto de pruebas:\", loss)\n",
        "print(\"Precisión en el conjunto de prueba:\", accuracy)"
      ],
      "metadata": {
        "colab": {
          "base_uri": "https://localhost:8080/"
        },
        "id": "7oix8P_JzSx1",
        "outputId": "75308c35-898f-40b8-93db-191f25119237"
      },
      "execution_count": 17,
      "outputs": [
        {
          "output_type": "stream",
          "name": "stdout",
          "text": [
            "1875/1875 [==============================] - 13s 7ms/step - loss: 0.0028 - accuracy: 0.9990\n",
            "Pérdida en el conjunto de entrenamiento: 0.0027827275916934013\n",
            "Precisión en el conjunto de entrenamiento: 0.9990000128746033\n",
            "313/313 [==============================] - 2s 6ms/step - loss: 0.0614 - accuracy: 0.9869\n",
            "Pérdida en el conjunto de pruebas: 0.061376702040433884\n",
            "Precisión en el conjunto de prueba: 0.9868999719619751\n"
          ]
        }
      ]
    },
    {
      "cell_type": "code",
      "source": [
        "# predicción\n",
        "index = 1\n",
        "print(f'Label: {test_labels[index]}')\n",
        "clasiffication = model.predict(test_images[index:index+1])\n",
        "print(f'Classification:\\n {clasiffication.reshape(-1,1)}')"
      ],
      "metadata": {
        "colab": {
          "base_uri": "https://localhost:8080/"
        },
        "id": "6vUXelGxz8IX",
        "outputId": "2f108918-9174-4d88-e82a-8671a7a889a9"
      },
      "execution_count": 19,
      "outputs": [
        {
          "output_type": "stream",
          "name": "stdout",
          "text": [
            "Label: 2\n",
            "1/1 [==============================] - 0s 208ms/step\n",
            "Classification:\n",
            " [[1.0008395e-15]\n",
            " [3.1776174e-15]\n",
            " [1.0000000e+00]\n",
            " [5.9853513e-21]\n",
            " [1.0487047e-19]\n",
            " [1.3885091e-25]\n",
            " [5.9481999e-15]\n",
            " [1.8878936e-19]\n",
            " [1.1477542e-20]\n",
            " [2.5309398e-19]]\n"
          ]
        }
      ]
    },
    {
      "cell_type": "code",
      "source": [
        "print(test_labels[:30])"
      ],
      "metadata": {
        "colab": {
          "base_uri": "https://localhost:8080/"
        },
        "id": "a701n95L4e-c",
        "outputId": "29871a4f-265c-430a-c751-45e5a9bff534"
      },
      "execution_count": 20,
      "outputs": [
        {
          "output_type": "stream",
          "name": "stdout",
          "text": [
            "[7 2 1 0 4 1 4 9 5 9 0 6 9 0 1 5 9 7 3 4 9 6 6 5 4 0 7 4 0 1]\n"
          ]
        }
      ]
    },
    {
      "cell_type": "code",
      "source": [
        "FIRST_IMAGE=3\n",
        "SECOND_IMAGE=10\n",
        "THIRD_IMAGE=25\n",
        "\n",
        "print(test_labels[FIRST_IMAGE])\n",
        "print(test_labels[SECOND_IMAGE])\n",
        "print(test_labels[THIRD_IMAGE])"
      ],
      "metadata": {
        "colab": {
          "base_uri": "https://localhost:8080/"
        },
        "id": "Zfxe7YkM4oHK",
        "outputId": "b4ac4800-0e06-4706-ff7b-cef08f7eb527"
      },
      "execution_count": 21,
      "outputs": [
        {
          "output_type": "stream",
          "name": "stdout",
          "text": [
            "0\n",
            "0\n",
            "0\n"
          ]
        }
      ]
    },
    {
      "cell_type": "code",
      "source": [
        "f, axarr = plt.subplots(3,1)\n",
        "\n",
        "axarr[0].imshow(test_images[FIRST_IMAGE])\n",
        "axarr[1].imshow(test_images[SECOND_IMAGE])\n",
        "axarr[2].imshow(test_images[THIRD_IMAGE])"
      ],
      "metadata": {
        "colab": {
          "base_uri": "https://localhost:8080/",
          "height": 451
        },
        "id": "NNAikuSl4_cn",
        "outputId": "d885d5da-d818-449a-905e-707c5704766f"
      },
      "execution_count": 22,
      "outputs": [
        {
          "output_type": "execute_result",
          "data": {
            "text/plain": [
              "<matplotlib.image.AxesImage at 0x7e675b345750>"
            ]
          },
          "metadata": {},
          "execution_count": 22
        },
        {
          "output_type": "display_data",
          "data": {
            "text/plain": [
              "<Figure size 640x480 with 3 Axes>"
            ],
            "image/png": "[encoded data removed]"
          },
          "metadata": {}
        }
      ]
    },
    {
      "cell_type": "code",
      "source": [
        "layer = 0\n",
        "filter1 = 0\n",
        "filter2 = 10\n",
        "\n",
        "layer_outputs = [ layer.output for layer in model.layers]\n",
        "activation_model = keras.models.Model(inputs = model.input, outputs=layer_outputs)"
      ],
      "metadata": {
        "id": "zkeHcEk45cpu"
      },
      "execution_count": 25,
      "outputs": []
    },
    {
      "cell_type": "code",
      "source": [
        "f, axarr = plt.subplots(3,3)\n",
        "\n",
        "axarr[0, 0].set_title(\"Image input\")\n",
        "axarr[0, 0].imshow(test_images[FIRST_IMAGE])\n",
        "f1 = activation_model.predict(test_images[FIRST_IMAGE].reshape(1,28,28,1))[layer]\n",
        "axarr[0, 1].set_title(\"Layer\" + str(layer) + \", Filter1\")\n",
        "axarr[0, 1].imshow(f1[0, : , :, filter1])\n",
        "axarr[0, 2].set_title(\"Layer\" + str(layer) + \", Filter2\")\n",
        "axarr[0, 2].imshow(f1[0, : , :, filter2])\n",
        "\n",
        "axarr[1, 0].imshow(test_images[SECOND_IMAGE])\n",
        "f2 = activation_model.predict(test_images[SECOND_IMAGE].reshape(1,28,28,1))[layer]\n",
        "axarr[1, 1].imshow(f2[0, : , :, filter1])\n",
        "axarr[1, 2].imshow(f2[0, : , :, filter2])\n",
        "\n",
        "axarr[2, 0].imshow(test_images[THIRD_IMAGE])\n",
        "f3 = activation_model.predict(test_images[THIRD_IMAGE].reshape(1,28,28,1))[layer]\n",
        "axarr[2, 1].imshow(f2[0, : , :, filter1])\n",
        "axarr[2, 2].imshow(f2[0, : , :, filter2])"
      ],
      "metadata": {
        "colab": {
          "base_uri": "https://localhost:8080/",
          "height": 523
        },
        "id": "3D3JWygZ6MYN",
        "outputId": "a0b5ebee-1938-45f1-af85-24c524deb3ea"
      },
      "execution_count": 27,
      "outputs": [
        {
          "output_type": "stream",
          "name": "stdout",
          "text": [
            "1/1 [==============================] - 0s 78ms/step\n",
            "1/1 [==============================] - 0s 23ms/step\n",
            "1/1 [==============================] - 0s 21ms/step\n"
          ]
        },
        {
          "output_type": "execute_result",
          "data": {
            "text/plain": [
              "<matplotlib.image.AxesImage at 0x7e6750ab5180>"
            ]
          },
          "metadata": {},
          "execution_count": 27
        },
        {
          "output_type": "display_data",
          "data": {
            "text/plain": [
              "<Figure size 640x480 with 9 Axes>"
            ],
            "image/png": "[encoded data removed]"
          },
          "metadata": {}
        }
      ]
    }
  ]
}